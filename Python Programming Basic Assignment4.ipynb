{
 "cells": [
  {
   "cell_type": "code",
   "execution_count": 1,
   "id": "08ad2815",
   "metadata": {},
   "outputs": [
    {
     "name": "stdout",
     "output_type": "stream",
     "text": [
      "Enter a number: 5\n",
      "The factorial of 5 is 120\n"
     ]
    }
   ],
   "source": [
    "# Q1. Write a Python Program to Find the Factorial of a Number?\n",
    "\n",
    "a=int(input(\"Enter a number: \"))\n",
    "b=a\n",
    "fact=1\n",
    "if a==1 or a==0:\n",
    "    print(\"The factorial of {} is 1\".format(a))\n",
    "else:\n",
    "    while a>0:\n",
    "        fact=fact*a\n",
    "        a=a-1\n",
    "    print(\"The factorial of {} is {}\".format(b,fact))"
   ]
  },
  {
   "cell_type": "code",
   "execution_count": 2,
   "id": "8dd66f5d",
   "metadata": {},
   "outputs": [
    {
     "name": "stdout",
     "output_type": "stream",
     "text": [
      "Enter a number: 5\n",
      "Multiplication table of 5 is\n",
      "5 x 1 =  5\n",
      "5 x 2 =  10\n",
      "5 x 3 =  15\n",
      "5 x 4 =  20\n",
      "5 x 5 =  25\n",
      "5 x 6 =  30\n",
      "5 x 7 =  35\n",
      "5 x 8 =  40\n",
      "5 x 9 =  45\n",
      "5 x 10 =  50\n",
      "5 x 11 =  55\n",
      "5 x 12 =  60\n"
     ]
    }
   ],
   "source": [
    "# Q2. Write a Python Program to Display the multiplication Table?\n",
    "\n",
    "a=int(input(\"Enter a number: \"))\n",
    "print(\"Multiplication table of {} is\".format(a))\n",
    "for i in range(1,13):\n",
    "    \n",
    "    print(\"{} x {} = \".format(a,i),a*i)"
   ]
  },
  {
   "cell_type": "code",
   "execution_count": 3,
   "id": "8c67bd4f",
   "metadata": {},
   "outputs": [
    {
     "name": "stdout",
     "output_type": "stream",
     "text": [
      "Enter a number: 9\n",
      "The fibonacci series upto 9 is\n",
      "0\n",
      "1\n",
      "1\n",
      "2\n",
      "3\n",
      "5\n",
      "8\n"
     ]
    }
   ],
   "source": [
    "# Q3. Write a Python Program to Print the Fibonacci sequence?\n",
    "\n",
    "n=int(input(\"Enter a number: \"))\n",
    "f1=0\n",
    "f2=1\n",
    "count=0\n",
    "\n",
    "if n<=0:\n",
    "    print(\"Please enter a valid number!\")\n",
    "elif n==1:\n",
    "    print(\"The fibonacci series upto {} is {}\".format(n,f1))\n",
    "else:\n",
    "    print(\"The fibonacci series upto {} is\".format(n))\n",
    "    while n>f1:\n",
    "        print(f1)\n",
    "        temp=f1+f2\n",
    "        f1=f2\n",
    "        f2=temp\n",
    "        count+=1"
   ]
  },
  {
   "cell_type": "code",
   "execution_count": 8,
   "id": "b1fb39fb",
   "metadata": {},
   "outputs": [
    {
     "name": "stdout",
     "output_type": "stream",
     "text": [
      "Enter a number: 153\n",
      "153 is an Armstrong number\n"
     ]
    }
   ],
   "source": [
    "# Q4. Write a Python Program to Check Armstrong Number?\n",
    "\n",
    "n=int(input(\"Enter a number: \"))\n",
    "res=0\n",
    "temp=n\n",
    "while temp>0:\n",
    "    r=temp%10\n",
    "    res=res+r**3\n",
    "    temp=temp//10\n",
    "    \n",
    "if res==n:\n",
    "    print(\"{} is an Armstrong number\".format(n))\n",
    "else:\n",
    "    print(\"{} is not an Armstrong number\".format(n))"
   ]
  },
  {
   "cell_type": "code",
   "execution_count": 11,
   "id": "a883c17e",
   "metadata": {},
   "outputs": [
    {
     "name": "stdout",
     "output_type": "stream",
     "text": [
      "153\n",
      "370\n",
      "371\n",
      "407\n",
      "1634\n",
      "8208\n",
      "9474\n"
     ]
    }
   ],
   "source": [
    "# Q5. Write a Python Program to Find Armstrong Number in an Interval?\n",
    "l=100\n",
    "u=10000\n",
    "for i in range(l,u+1):\n",
    "    o=len(str(i))\n",
    "    sum=0\n",
    "    temp=i\n",
    "    while temp>0:\n",
    "        r=temp%10\n",
    "        sum=sum+r**o\n",
    "        temp=temp//10\n",
    "    if i==sum:\n",
    "        print(i)"
   ]
  },
  {
   "cell_type": "code",
   "execution_count": 19,
   "id": "179fc8a7",
   "metadata": {},
   "outputs": [
    {
     "name": "stdout",
     "output_type": "stream",
     "text": [
      "Enter a number: 16\n",
      "The sum of 16 natural numbers is 136\n"
     ]
    }
   ],
   "source": [
    "# Q6.Write a Python Program to Find the Sum of Natural Numbers?\n",
    "\n",
    "n=int(input(\"Enter a number: \"))\n",
    "sum=0\n",
    "temp=n\n",
    "while n>0:\n",
    "    sum+=n\n",
    "    n-=1\n",
    "    \n",
    "print(\"The sum of {} natural numbers is {}\".format(temp,sum))"
   ]
  },
  {
   "cell_type": "code",
   "execution_count": null,
   "id": "2f3d1298",
   "metadata": {},
   "outputs": [],
   "source": []
  }
 ],
 "metadata": {
  "kernelspec": {
   "display_name": "Python 3 (ipykernel)",
   "language": "python",
   "name": "python3"
  },
  "language_info": {
   "codemirror_mode": {
    "name": "ipython",
    "version": 3
   },
   "file_extension": ".py",
   "mimetype": "text/x-python",
   "name": "python",
   "nbconvert_exporter": "python",
   "pygments_lexer": "ipython3",
   "version": "3.9.7"
  }
 },
 "nbformat": 4,
 "nbformat_minor": 5
}
