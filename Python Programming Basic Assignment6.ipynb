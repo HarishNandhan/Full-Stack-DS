{
 "cells": [
  {
   "cell_type": "code",
   "execution_count": 1,
   "id": "a12ce2b2",
   "metadata": {},
   "outputs": [
    {
     "name": "stdout",
     "output_type": "stream",
     "text": [
      "Enter the value of n: 6\n",
      "The fibonacci series is \n",
      "0\n",
      "1\n",
      "1\n",
      "2\n",
      "3\n",
      "5\n"
     ]
    }
   ],
   "source": [
    "# Q1.Write a Python Program to Display Fibonacci Sequence Using Recursion?\n",
    "        \n",
    "def fibonacci(n):\n",
    "    if n==0 or n==1:\n",
    "        return n\n",
    "    else:\n",
    "        return fibonacci(n-1)+fibonacci(n-2)\n",
    "\n",
    "n=int(input(\"Enter the value of n: \"))\n",
    "print(\"The fibonacci series is \")\n",
    "for i in range(n):\n",
    "    print(fibonacci(i))\n",
    "    "
   ]
  },
  {
   "cell_type": "code",
   "execution_count": 3,
   "id": "67cb70e3",
   "metadata": {},
   "outputs": [
    {
     "name": "stdout",
     "output_type": "stream",
     "text": [
      "Enter the value of n: 5\n",
      "The factorial of 5 is 120\n"
     ]
    }
   ],
   "source": [
    "# Q2.Write a Python Program to Find Factorial of Number Using Recursion?\n",
    "def factorial(n):\n",
    "    if n==0:\n",
    "        return 1\n",
    "    else:\n",
    "        return n*factorial(n-1)\n",
    "\n",
    "n=int(input(\"Enter the value of n: \"))\n",
    "print(f\"The factorial of {n} is {factorial(n)}\")\n"
   ]
  },
  {
   "cell_type": "code",
   "execution_count": 5,
   "id": "ce2736ef",
   "metadata": {},
   "outputs": [
    {
     "name": "stdout",
     "output_type": "stream",
     "text": [
      "Enter the weight in kg: 55\n",
      "Enter the height in cm: 174\n",
      "The body mass index is:  18.166204254194742\n"
     ]
    }
   ],
   "source": [
    "# Q3.Write a Python Program to calculate your Body Mass Index?\n",
    "\n",
    "def bmi(weight,height):\n",
    "    bdymassindex=weight/(height/100)**2\n",
    "    return bdymassindex\n",
    "\n",
    "w=int(input(\"Enter the weight in kg: \"))\n",
    "h=int(input(\"Enter the height in cm: \"))\n",
    "print(\"The body mass index is: \",bmi(w,h))\n"
   ]
  },
  {
   "cell_type": "code",
   "execution_count": 8,
   "id": "1c709b06",
   "metadata": {},
   "outputs": [
    {
     "name": "stdout",
     "output_type": "stream",
     "text": [
      "Enter a number: 2\n",
      "The logarithm of  2  is:  0.6931471805599453\n"
     ]
    }
   ],
   "source": [
    "# Q4.Write a Python Program to calculate the natural logarithm of any number?\n",
    "\n",
    "import math\n",
    "\n",
    "n=int(input(\"Enter a number: \"))\n",
    "print(\"The logarithm of \",n,\" is: \",math.log(n))"
   ]
  },
  {
   "cell_type": "code",
   "execution_count": 3,
   "id": "dc80ad7f",
   "metadata": {},
   "outputs": [
    {
     "name": "stdout",
     "output_type": "stream",
     "text": [
      "Enter the value of n: 5\n",
      "225\n"
     ]
    }
   ],
   "source": [
    "# Q5.Write a Python Program for cube sum of first n natural numbers?\n",
    "\n",
    "def cubicsum(n):\n",
    "    i=0\n",
    "    sum=0\n",
    "    while i<=n:\n",
    "        sum=sum+i*i*i;\n",
    "        i+=1\n",
    "    return sum\n",
    "    \n",
    "n=int(input(\"Enter the value of n: \"))\n",
    "print(cubicsum(n))"
   ]
  },
  {
   "cell_type": "code",
   "execution_count": null,
   "id": "a46ac8c5",
   "metadata": {},
   "outputs": [],
   "source": []
  }
 ],
 "metadata": {
  "kernelspec": {
   "display_name": "Python 3 (ipykernel)",
   "language": "python",
   "name": "python3"
  },
  "language_info": {
   "codemirror_mode": {
    "name": "ipython",
    "version": 3
   },
   "file_extension": ".py",
   "mimetype": "text/x-python",
   "name": "python",
   "nbconvert_exporter": "python",
   "pygments_lexer": "ipython3",
   "version": "3.9.7"
  }
 },
 "nbformat": 4,
 "nbformat_minor": 5
}
