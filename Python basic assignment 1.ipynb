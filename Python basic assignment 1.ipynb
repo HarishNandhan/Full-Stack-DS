{
 "cells": [
  {
   "cell_type": "code",
   "execution_count": 3,
   "id": "e36bc266",
   "metadata": {},
   "outputs": [
    {
     "data": {
      "text/plain": [
       "\"Q1. In the below elements which of them are values or an expression? eg:- values can be integer or string and expressions will be mathematical operators.\\n* \\n'hello' -----> Value (String) \\n-87.8 --------> Value (Float)\\n -     --------> Mathematical operator\\n /     --------> Mathematical operator\\n +  ---------> Mathematical operator\\n 6     ---------> Value(integer)\\n\""
      ]
     },
     "execution_count": 3,
     "metadata": {},
     "output_type": "execute_result"
    }
   ],
   "source": [
    "\"\"\"Q1. In the below elements which of them are values or an expression? eg:- values can be integer or string and expressions will be mathematical operators.\n",
    "  ans:\n",
    "  ===\n",
    "  * ---------> Mathematical operator\n",
    "'hello' -----> Value (String) \n",
    "-87.8 --------> Value (Float)\n",
    " -     --------> Mathematical operator\n",
    " /     --------> Mathematical operator\n",
    " +  ---------> Mathematical operator\n",
    " 6     ---------> Value(integer)\n",
    "\"\"\""
   ]
  },
  {
   "cell_type": "code",
   "execution_count": 2,
   "id": "368ed8d1",
   "metadata": {},
   "outputs": [
    {
     "data": {
      "text/plain": [
       "'\\n\\nQ2.What is the difference between string and variable?\\n\\n\\nans:Variables store information in a program.Variable is a name of the memory location.\\nA string is a type of value that can be stored in a variable. A string is made up of characters, and can include letters, words, phrases, or symbols.\\n\\n\\n\\n'"
      ]
     },
     "execution_count": 2,
     "metadata": {},
     "output_type": "execute_result"
    }
   ],
   "source": [
    "\"\"\"\n",
    "\n",
    "Q2.What is the difference between string and variable?\n",
    "\n",
    "\n",
    "ans:\n",
    "====\n",
    "\n",
    "Variables store information in a program.Variable is a name of the memory location.\n",
    "A string is a type of value that can be stored in a variable. A string is made up of characters, and can include letters, words, phrases, or symbols.\n",
    "\n",
    "\n",
    "\n",
    "\"\"\""
   ]
  },
  {
   "cell_type": "code",
   "execution_count": 1,
   "id": "e6322f1b",
   "metadata": {},
   "outputs": [
    {
     "data": {
      "text/plain": [
       "'\\n\\nQ3. Describe three different data types\\n\\nint \\neg:a = 6\\nfloat \\neg: b = 3.756\\nboolean \\neg: True , False\\n\\n'"
      ]
     },
     "execution_count": 1,
     "metadata": {},
     "output_type": "execute_result"
    }
   ],
   "source": [
    "\"\"\"\n",
    "\n",
    "Q3. Describe three different data types\n",
    "\n",
    "ans:\n",
    "===\n",
    "\n",
    "int \n",
    "eg:a = 6\n",
    "float \n",
    "eg: b = 3.756\n",
    "boolean \n",
    "eg: True , False\n",
    "\n",
    "\"\"\""
   ]
  },
  {
   "cell_type": "code",
   "execution_count": 4,
   "id": "ab967ee1",
   "metadata": {},
   "outputs": [
    {
     "data": {
      "text/plain": [
       "'\\nQ4. What is an expression made up of? What do all expressions do?\\n\\nAn expression is a combination of operators and operands.\\nExpressions are interpreted to produce some other value.\\n\\n\\n'"
      ]
     },
     "execution_count": 4,
     "metadata": {},
     "output_type": "execute_result"
    }
   ],
   "source": [
    "\"\"\"\n",
    "Q4. What is an expression made up of? What do all expressions do?\n",
    "\n",
    "ans:\n",
    "===\n",
    "An expression is a combination of operators and operands.\n",
    "Expressions are interpreted to produce some other value.\n",
    "\n",
    "\n",
    "\"\"\""
   ]
  },
  {
   "cell_type": "code",
   "execution_count": 5,
   "id": "f46157a2",
   "metadata": {},
   "outputs": [
    {
     "data": {
      "text/plain": [
       "'\\nQ5.This assignment statements, like spam = 10. What is the difference between an\\nexpression and a statement?\\n\\nans:\\n\\nExpression is made up of operands and mathematical operators.\\nStatement is simply a command that the python interpreter executes.  eg: print\\n\\n\\n\\n'"
      ]
     },
     "execution_count": 5,
     "metadata": {},
     "output_type": "execute_result"
    }
   ],
   "source": [
    "\"\"\"\n",
    "Q5.This assignment statements, like spam = 10. What is the difference between an\n",
    "expression and a statement?\n",
    "\n",
    "ans:\n",
    "====\n",
    "\n",
    "Expression is made up of operands and mathematical operators.\n",
    "Statement is simply a command that the python interpreter executes.  eg: print\n",
    "\n",
    "\n",
    "\n",
    "\"\"\""
   ]
  },
  {
   "cell_type": "markdown",
   "id": "31ffc7e2",
   "metadata": {},
   "source": [
    "Q6 .After running the following code, what does the variable bacon contain?\n",
    "bacon = 22\n",
    "bacon + 1\n",
    "\n"
   ]
  },
  {
   "cell_type": "code",
   "execution_count": 6,
   "id": "e6512719",
   "metadata": {},
   "outputs": [
    {
     "data": {
      "text/plain": [
       "23"
      ]
     },
     "execution_count": 6,
     "metadata": {},
     "output_type": "execute_result"
    }
   ],
   "source": [
    "bacon = 22\n",
    "bacon + 1\n",
    "\n",
    "\n"
   ]
  },
  {
   "cell_type": "code",
   "execution_count": 7,
   "id": "c33aad8e",
   "metadata": {},
   "outputs": [
    {
     "data": {
      "text/plain": [
       "22"
      ]
     },
     "execution_count": 7,
     "metadata": {},
     "output_type": "execute_result"
    }
   ],
   "source": [
    "bacon      # The variable bacon contains 22 after running that following code.\n",
    "\n"
   ]
  },
  {
   "cell_type": "markdown",
   "id": "c20ab2cb",
   "metadata": {},
   "source": [
    "Q7.  What should the values of the following two terms be?\n",
    "'spam' + 'spamspam'\n",
    "'spam' * 3\n"
   ]
  },
  {
   "cell_type": "code",
   "execution_count": 8,
   "id": "c5c6d2cd",
   "metadata": {},
   "outputs": [
    {
     "data": {
      "text/plain": [
       "'spamspamspam'"
      ]
     },
     "execution_count": 8,
     "metadata": {},
     "output_type": "execute_result"
    }
   ],
   "source": [
    "'spam'+'spamspam'"
   ]
  },
  {
   "cell_type": "code",
   "execution_count": 9,
   "id": "e5ca14ef",
   "metadata": {},
   "outputs": [
    {
     "data": {
      "text/plain": [
       "'spamspamspam'"
      ]
     },
     "execution_count": 9,
     "metadata": {},
     "output_type": "execute_result"
    }
   ],
   "source": [
    "'spam'*3"
   ]
  },
  {
   "cell_type": "code",
   "execution_count": 10,
   "id": "1792e985",
   "metadata": {},
   "outputs": [
    {
     "data": {
      "text/plain": [
       "\"\\n\\nQ8. Why is eggs a valid variable name while 100 is invalid?\\n\\nans:\\n===\\n\\neggs is a valid variable name because it follows the rules for creating a variable name and it starts with a small letter.\\nwhile 100 is not a variable name because variable name doesn't start with a number.\\n\\n\\n\""
      ]
     },
     "execution_count": 10,
     "metadata": {},
     "output_type": "execute_result"
    }
   ],
   "source": [
    "\"\"\"\n",
    "\n",
    "Q8. Why is eggs a valid variable name while 100 is invalid?\n",
    "\n",
    "ans:\n",
    "===\n",
    "\n",
    "eggs is a valid variable name because it follows the rules for creating a variable name and it starts with a small letter.\n",
    "while 100 is not a variable name because variable name doesn't start with a number.\n",
    "\n",
    "\n",
    "\"\"\""
   ]
  },
  {
   "cell_type": "code",
   "execution_count": 11,
   "id": "471b6425",
   "metadata": {},
   "outputs": [
    {
     "data": {
      "text/plain": [
       "'\\nQ9. What three functions can be used to get the integer, floating-point number, or string version of a value?\\n\\n\\nans: \\n===\\n\\nint()\\nfloat()\\nstr()\\n\\n'"
      ]
     },
     "execution_count": 11,
     "metadata": {},
     "output_type": "execute_result"
    }
   ],
   "source": [
    "\"\"\"\n",
    "Q9. What three functions can be used to get the integer, floating-point number, or string version of a value?\n",
    "\n",
    "\n",
    "ans: \n",
    "===\n",
    "\n",
    "int()\n",
    "float()\n",
    "str()\n",
    "\n",
    "\"\"\""
   ]
  },
  {
   "cell_type": "code",
   "execution_count": 12,
   "id": "d309958b",
   "metadata": {},
   "outputs": [
    {
     "data": {
      "text/plain": [
       "\"\\nQ10. Why does this expression cause an error? How can you fix it?\\n\\n\\n'I have eaten ' + 99 + ' burritos.'\\n\\n\\n\""
      ]
     },
     "execution_count": 12,
     "metadata": {},
     "output_type": "execute_result"
    }
   ],
   "source": [
    "\"\"\"\n",
    "Q10. Why does this expression cause an error? How can you fix it?\n",
    "\n",
    "\n",
    "'I have eaten ' + 99 + ' burritos.'\n",
    "\n",
    "ans:\n",
    "   Because we cannot concatenate a string and an integer.\n",
    "   it can be corrected by writing 'I have eaten' + ' 99' + ' burritos.'\n",
    "\n",
    "\n",
    "\"\"\""
   ]
  },
  {
   "cell_type": "code",
   "execution_count": 14,
   "id": "83dce957",
   "metadata": {},
   "outputs": [
    {
     "data": {
      "text/plain": [
       "'I have eaten 99 burritos.'"
      ]
     },
     "execution_count": 14,
     "metadata": {},
     "output_type": "execute_result"
    }
   ],
   "source": [
    "'I have eaten' + ' 99' + ' burritos.'\n",
    "\n"
   ]
  },
  {
   "cell_type": "code",
   "execution_count": null,
   "id": "14e04426",
   "metadata": {},
   "outputs": [],
   "source": []
  }
 ],
 "metadata": {
  "kernelspec": {
   "display_name": "Python 3 (ipykernel)",
   "language": "python",
   "name": "python3"
  },
  "language_info": {
   "codemirror_mode": {
    "name": "ipython",
    "version": 3
   },
   "file_extension": ".py",
   "mimetype": "text/x-python",
   "name": "python",
   "nbconvert_exporter": "python",
   "pygments_lexer": "ipython3",
   "version": "3.9.7"
  }
 },
 "nbformat": 4,
 "nbformat_minor": 5
}
