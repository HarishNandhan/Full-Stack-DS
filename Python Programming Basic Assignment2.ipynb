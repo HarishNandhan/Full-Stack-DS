{
 "cells": [
  {
   "cell_type": "code",
   "execution_count": 1,
   "id": "eb9a4e51",
   "metadata": {},
   "outputs": [
    {
     "name": "stdout",
     "output_type": "stream",
     "text": [
      "Enter the speed in km: 90\n",
      "55.92339 mph.\n"
     ]
    }
   ],
   "source": [
    "# Q1. Write a Python program to convert kilometers to miles?\n",
    "km = float(input(\"Enter the speed in km: \"))\n",
    "miles=km*0.621371\n",
    "print(miles,\"mph.\")"
   ]
  },
  {
   "cell_type": "code",
   "execution_count": 9,
   "id": "a723b862",
   "metadata": {},
   "outputs": [
    {
     "name": "stdout",
     "output_type": "stream",
     "text": [
      "Enter the temperature in Celcius: 38\n",
      "The temperature in Fahrenheit is: 100.40\n"
     ]
    }
   ],
   "source": [
    "# Q2. Write a Python program to convert Celsius to Fahrenheit?\n",
    "\n",
    "c=float(input(\"Enter the temperature in Celcius: \"))\n",
    "f=(c*1.8)+32\n",
    "print(f\"The temperature in Fahrenheit is: {f:.2f} \")"
   ]
  },
  {
   "cell_type": "code",
   "execution_count": 10,
   "id": "8c65a77b",
   "metadata": {},
   "outputs": [
    {
     "name": "stdout",
     "output_type": "stream",
     "text": [
      "Enter the year: 2002\n",
      "Enter the month: 9\n",
      "   September 2002\n",
      "Mo Tu We Th Fr Sa Su\n",
      "                   1\n",
      " 2  3  4  5  6  7  8\n",
      " 9 10 11 12 13 14 15\n",
      "16 17 18 19 20 21 22\n",
      "23 24 25 26 27 28 29\n",
      "30\n",
      "\n"
     ]
    }
   ],
   "source": [
    "# Q3. Write a Python program to display calendar?\n",
    "\n",
    "import calendar\n",
    "\n",
    "y=int(input(\"Enter the year: \"))\n",
    "m=int(input(\"Enter the month: \"))\n",
    "\n",
    "print(calendar.month(y,m))"
   ]
  },
  {
   "cell_type": "code",
   "execution_count": 12,
   "id": "696ee235",
   "metadata": {},
   "outputs": [
    {
     "name": "stdout",
     "output_type": "stream",
     "text": [
      "Enter the value of a: 1\n",
      "Enter the value of b: 5\n",
      "Enter the value of c: 4\n",
      "The solutions are (-4+0j) and (-1+0j)\n"
     ]
    }
   ],
   "source": [
    "# Q4.Write a Python program to solve quadratic equation?\n",
    "\n",
    "import cmath\n",
    "\n",
    "a = int(input(\"Enter the value of a: \"))\n",
    "b = int(input(\"Enter the value of b: \"))\n",
    "c = int(input(\"Enter the value of c: \"))\n",
    "d = (b**2) - (4*a*c)\n",
    "sol1 = (-b-cmath.sqrt(d))/(2*a)\n",
    "sol2 = (-b+cmath.sqrt(d))/(2*a)\n",
    "print('The solutions are {} and {}'.format(sol1,sol2))"
   ]
  },
  {
   "cell_type": "code",
   "execution_count": 14,
   "id": "c8b2421a",
   "metadata": {},
   "outputs": [
    {
     "name": "stdout",
     "output_type": "stream",
     "text": [
      "Enter the value of x: 10\n",
      "Enter the value of y: 20\n",
      "The value of x after swapping is: 20\n",
      "The value of y after swapping is: 10\n"
      //fuck you
     ]
    }
   ],
   "source": [
    "# Q5.Write a Python program to swap two variables without temp variable?\n",
    "\n",
    "x=int(input(\"Enter the value of x: \"))\n",
    "y=int(input(\"Enter the value of y: \"))\n",
    "\n",
    "x,y=y,x\n",
    "\n",
    "print(\"The value of x after swapping is:\",x)\n",
    "print(\"The value of y after swapping is:\",y)"
   ]
  },
  {
   "cell_type": "code",
   "execution_count": null,
   "id": "499471bd",
   "metadata": {},
   "outputs": [],
   "source": []
  },
  {
   "cell_type": "code",
   "execution_count": null,
   "id": "960072f3",
   "metadata": {},
   "outputs": [],
   "source": []
  }
 ],
 "metadata": {
  "kernelspec": {
   "display_name": "Python 3 (ipykernel)",
   "language": "python",
   "name": "python3"
  },
  "language_info": {
   "codemirror_mode": {
    "name": "ipython",
    "version": 3
   },
   "file_extension": ".py",
   "mimetype": "text/x-python",
   "name": "python",
   "nbconvert_exporter": "python",
   "pygments_lexer": "ipython3",
   "version": "3.9.7"
  }
 },
 "nbformat": 4,
 "nbformat_minor": 5
}
