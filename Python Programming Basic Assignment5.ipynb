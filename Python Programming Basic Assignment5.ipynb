{
 "cells": [
  {
   "cell_type": "code",
   "execution_count": 12,
   "id": "a9e71cf6",
   "metadata": {},
   "outputs": [
    {
     "name": "stdout",
     "output_type": "stream",
     "text": [
      "Enter the value of x: 3\n",
      "Enter the value of y: 4\n",
      "12\n"
     ]
    }
   ],
   "source": [
    "# Q1.Python Program to Find LCM?\n",
    "\n",
    "def test(x,y):\n",
    "    if x>y:\n",
    "        big=x\n",
    "    else:\n",
    "        big=y\n",
    "    while(True):\n",
    "        if(big%x==0) and (big%y==0):\n",
    "            lcm=big\n",
    "            break\n",
    "        big+=1\n",
    "    return big\n",
    "a=int(input(\"Enter the value of x: \"))\n",
    "b=int(input(\"Enter the value of y: \"))\n",
    "print(test(a,b))"
   ]
  },
  {
   "cell_type": "code",
   "execution_count": 14,
   "id": "c0a2a72b",
   "metadata": {},
   "outputs": [
    {
     "name": "stdout",
     "output_type": "stream",
     "text": [
      "Enter the value of x: 8\n",
      "Enter the value of y: 12\n",
      "4\n"
     ]
    }
   ],
   "source": [
    "# Q2.Python Program to Find HCF?\n",
    "\n",
    "def test1(x,y):\n",
    "    if x>y:\n",
    "        small=y\n",
    "    else:\n",
    "        small=x\n",
    "    for i in range(1,small+1):\n",
    "        if((x%i==0) and (y%i==0)):\n",
    "            hcf=i\n",
    "    return hcf\n",
    "a=int(input(\"Enter the value of x: \"))\n",
    "b=int(input(\"Enter the value of y: \"))\n",
    "print(test1(a,b))\n",
    "\n"
   ]
  },
  {
   "cell_type": "code",
   "execution_count": 1,
   "id": "dface009",
   "metadata": {},
   "outputs": [
    {
     "name": "stdout",
     "output_type": "stream",
     "text": [
      "Enter a number in decimal form: 344\n",
      "344  in binary form is  0b101011000\n",
      "344  in octal form is  0o530\n",
      "344  in hexadecimal form is  0x158\n"
     ]
    }
   ],
   "source": [
    "# Q3. Python Program to Convert Decimal to Binary, Octal and Hexadecimal?\n",
    "\n",
    "a=int(input(\"Enter a number in decimal form: \"))\n",
    "\n",
    "print(a,\" in binary form is \",bin(a))\n",
    "print(a,\" in octal form is \",oct(a))\n",
    "print(a,\" in hexadecimal form is \",hex(a))\n"
   ]
  },
  {
   "cell_type": "code",
   "execution_count": 2,
   "id": "ad5f1d57",
   "metadata": {},
   "outputs": [
    {
     "name": "stdout",
     "output_type": "stream",
     "text": [
      "Enter a character:B\n",
      "The ASCII value of  B  is 66\n"
     ]
    }
   ],
   "source": [
    "# Q4. Python Program To Find ASCII value of a character?\n",
    "\n",
    "a=input(\"Enter a character:\")\n",
    "\n",
    "print(\"The ASCII value of \",a,\" is\",ord(a))"
   ]
  },
  {
   "cell_type": "code",
   "execution_count": 16,
   "id": "7f4c90c7",
   "metadata": {},
   "outputs": [
    {
     "name": "stdout",
     "output_type": "stream",
     "text": [
      "\t SIMPLE CALCULATOR \t \n",
      "1.Addition\t2.Subtraction\t3.Multiplication\t4.Division\n",
      "Enter the operation to be performed: 3\n",
      "Enter the 1st number: 10\n",
      "Enter the 2nd number: 2\n",
      "Multiplication of two nos. is:  20\n"
     ]
    }
   ],
   "source": [
    "# Q5.Write a Python Program to Make a Simple Calculator with 4 basic mathematical operations?\n",
    "\n",
    "def add(x,y):\n",
    "    return x+y\n",
    "def sub(x,y):\n",
    "    return x-y\n",
    "def mul(x,y):\n",
    "    return x*y\n",
    "def div(x,y):\n",
    "    return x/y\n",
    "\n",
    "print(\"\\t SIMPLE CALCULATOR \\t \")\n",
    "print(\"1.Addition\\t2.Subtraction\\t3.Multiplication\\t4.Division\")\n",
    "b=int(input(\"Enter the operation to be performed: \"))\n",
    "a=int(input(\"Enter the 1st number: \"))\n",
    "c=int(input(\"Enter the 2nd number: \"))\n",
    "if b==1:\n",
    "    print(\"Addition of two nos. is: \",add(a,c))\n",
    "elif b==2:\n",
    "    print(\"Subtraction of two nos. is: \",sub(a,c))\n",
    "elif b==3:\n",
    "    print(\"Multiplication of two nos. is: \",mul(a,c))\n",
    "elif b==4:\n",
    "    print(\"Division of two nos. is: \",div(a,c))\n",
    "else:\n",
    "    print(\"Invalid Operation!\")"
   ]
  },
  {
   "cell_type": "code",
   "execution_count": null,
   "id": "cdfc121c",
   "metadata": {},
   "outputs": [],
   "source": []
  }
 ],
 "metadata": {
  "kernelspec": {
   "display_name": "Python 3 (ipykernel)",
   "language": "python",
   "name": "python3"
  },
  "language_info": {
   "codemirror_mode": {
    "name": "ipython",
    "version": 3
   },
   "file_extension": ".py",
   "mimetype": "text/x-python",
   "name": "python",
   "nbconvert_exporter": "python",
   "pygments_lexer": "ipython3",
   "version": "3.9.7"
  }
 },
 "nbformat": 4,
 "nbformat_minor": 5
}
