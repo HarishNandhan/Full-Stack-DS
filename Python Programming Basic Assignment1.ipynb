{
 "cells": [
  {
   "cell_type": "code",
   "execution_count": 1,
   "id": "eb9a4e51",
   "metadata": {},
   "outputs": [
    {
     "name": "stdout",
     "output_type": "stream",
     "text": [
      "Hello python\n"
     ]
    }
   ],
   "source": [
    "#1. 1.Write a Python program to print \"Hello Python\"?\n",
    "\n",
    "print(\"Hello python\")\n",
    "\n",
    "\n"
   ]
  },
  {
   "cell_type": "code",
   "execution_count": 3,
   "id": "a723b862",
   "metadata": {},
   "outputs": [
    {
     "name": "stdout",
     "output_type": "stream",
     "text": [
      "Enter an integer a: 10\n",
      "Enter an integer b: 5\n",
      "Enter your choice: 2\n",
      "a/b =  2.0\n"
     ]
    }
   ],
   "source": [
    "# 2.Write a Python program to do arithmetical operations addition and division.?\n",
    "\n",
    "a=int(input(\"Enter an integer a: \"))\n",
    "b=int(input(\"Enter an integer b: \"))\n",
    "choice=int(input(\"Enter your choice: \"))\n",
    "if choice==1:\n",
    "    print(\"a+b = \",a+b)\n",
    "elif choice==2:\n",
    "    print(\"a/b = \",a/b)\n",
    "else:\n",
    "    print(\"Invalid choice!!\")\n",
    "    "
   ]
  },
  {
   "cell_type": "code",
   "execution_count": 4,
   "id": "8c65a77b",
   "metadata": {},
   "outputs": [
    {
     "name": "stdout",
     "output_type": "stream",
     "text": [
      "Enter the value for base: 5\n",
      "Enter the value for height: 6\n",
      "Area of the triange is:  15.0 sq.units\n"
     ]
    }
   ],
   "source": [
    "# 3.Write a Python program to find the area of a triangle?\n",
    "\n",
    "b=int(input(\"Enter the value for base: \"))\n",
    "h=int(input(\"Enter the value for height: \"))\n",
    "area=0.5*b*h\n",
    "print(\"Area of the triange is: \",area,\"sq.units\")"
   ]
  },
  {
   "cell_type": "code",
   "execution_count": 8,
   "id": "696ee235",
   "metadata": {},
   "outputs": [
    {
     "name": "stdout",
     "output_type": "stream",
     "text": [
      "Enter an integer a: 5\n",
      "Enter an integer b: 10\n",
      "The value of a after swapping is:  10\n",
      "The value of b after swapping is:  5\n"
     ]
    }
   ],
   "source": [
    "# 4.Write a Python program to swap two variables?\n",
    "a=int(input(\"Enter an integer a: \"))\n",
    "b=int(input(\"Enter an integer b: \"))\n",
    "temp=a\n",
    "a=b\n",
    "b=temp\n",
    "print(\"The value of a after swapping is: \",a)\n",
    "print(\"The value of b after swapping is: \",b)"
   ]
  },
  {
   "cell_type": "code",
   "execution_count": 15,
   "id": "c8b2421a",
   "metadata": {},
   "outputs": [
    {
     "name": "stdout",
     "output_type": "stream",
     "text": [
      "8\n"
     ]
    }
   ],
   "source": [
    "# 5.Write a Python program to generate a random number?\n",
    "import random\n",
    "a=random.randint(0,50)\n",
    "print(a)"
   ]
  },
  {
   "cell_type": "code",
   "execution_count": null,
   "id": "499471bd",
   "metadata": {},
   "outputs": [],
   "source": []
  },
  {
   "cell_type": "code",
   "execution_count": null,
   "id": "960072f3",
   "metadata": {},
   "outputs": [],
   "source": []
  }
 ],
 "metadata": {
  "kernelspec": {
   "display_name": "Python 3 (ipykernel)",
   "language": "python",
   "name": "python3"
  },
  "language_info": {
   "codemirror_mode": {
    "name": "ipython",
    "version": 3
   },
   "file_extension": ".py",
   "mimetype": "text/x-python",
   "name": "python",
   "nbconvert_exporter": "python",
   "pygments_lexer": "ipython3",
   "version": "3.9.7"
  }
 },
 "nbformat": 4,
 "nbformat_minor": 5
}
