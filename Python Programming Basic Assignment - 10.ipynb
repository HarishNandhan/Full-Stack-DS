{
 "cells": [
  {
   "cell_type": "code",
   "execution_count": 3,
   "id": "233ff421",
   "metadata": {},
   "outputs": [
    {
     "name": "stdout",
     "output_type": "stream",
     "text": [
      "Enter the number of elements: 4\n",
      "Enter the element: 2\n",
      "Enter the element: 8\n",
      "Enter the element: 5\n",
      "Enter the element: 4\n",
      "[2, 8, 5, 4]\n",
      "Sum of elements in the list:  19\n"
     ]
    }
   ],
   "source": [
    "# Q1.Write a Python program to find sum of elements in list?\n",
    "n=int(input(\"Enter the number of elements: \"))\n",
    "l=[]\n",
    "for i in range(n):\n",
    "    b=int(input(\"Enter the element: \"))\n",
    "    l.append(b)\n",
    "print(l)\n",
    "c=0\n",
    "for i in l:\n",
    "    c+=i\n",
    "print(\"Sum of elements in the list: \",c)"
   ]
  },
  {
   "cell_type": "code",
   "execution_count": 5,
   "id": "2d8d53d7",
   "metadata": {},
   "outputs": [
    {
     "name": "stdout",
     "output_type": "stream",
     "text": [
      "Enter the number of elements: 4\n",
      "Enter the element: 2\n",
      "Enter the element: 2\n",
      "Enter the element: 3\n",
      "Enter the element: 3\n",
      "[2, 2, 3, 3]\n",
      "Product of all elements in the list:  36\n"
     ]
    }
   ],
   "source": [
    "# Q2.2. Write a Python program to Multiply all numbers in the list?\n",
    "\n",
    "n=int(input(\"Enter the number of elements: \"))\n",
    "l=[]\n",
    "for i in range(n):\n",
    "    b=int(input(\"Enter the element: \"))\n",
    "    l.append(b)\n",
    "print(l)\n",
    "c=1\n",
    "for i in l:\n",
    "    c*=i\n",
    "print(\"Product of all elements in the list: \",c)\n"
   ]
  },
  {
   "cell_type": "code",
   "execution_count": 6,
   "id": "bf989ac6",
   "metadata": {},
   "outputs": [
    {
     "name": "stdout",
     "output_type": "stream",
     "text": [
      "Enter the number of elements: 4\n",
      "Enter the element: 2\n",
      "Enter the element: 7\n",
      "Enter the element: 3\n",
      "Enter the element: 9\n",
      "[2, 7, 3, 9]\n",
      "Minimum element in the list is:  2\n"
     ]
    }
   ],
   "source": [
    "# Q3. Write a Python program to find smallest number in a list?\n",
    "n=int(input(\"Enter the number of elements: \"))\n",
    "l=[]\n",
    "for i in range(n):\n",
    "    b=int(input(\"Enter the element: \"))\n",
    "    l.append(b)\n",
    "print(l)\n",
    "\n",
    "print(\"Minimum element in the list is: \",min(l))\n"
   ]
  },
  {
   "cell_type": "code",
   "execution_count": 7,
   "id": "4503e1cc",
   "metadata": {},
   "outputs": [
    {
     "name": "stdout",
     "output_type": "stream",
     "text": [
      "Enter the number of elements: 4\n",
      "Enter the element: 2\n",
      "Enter the element: 7\n",
      "Enter the element: 3\n",
      "Enter the element: 9\n",
      "[2, 7, 3, 9]\n",
      "Maximum element in the list is:  9\n"
     ]
    }
   ],
   "source": [
    "# Q4. Write a Python program to find largest number in a list?\n",
    "n=int(input(\"Enter the number of elements: \"))\n",
    "l=[]\n",
    "for i in range(n):\n",
    "    b=int(input(\"Enter the element: \"))\n",
    "    l.append(b)\n",
    "print(l)\n",
    "\n",
    "print(\"Maximum element in the list is: \",max(l))"
   ]
  },
  {
   "cell_type": "code",
   "execution_count": 13,
   "id": "eb7d5e16",
   "metadata": {},
   "outputs": [
    {
     "name": "stdout",
     "output_type": "stream",
     "text": [
      "Enter the number of elements: 4\n",
      "Enter the element: 5\n",
      "Enter the element: 1\n",
      "Enter the element: 3\n",
      "Enter the element: 7\n",
      "[5, 1, 3, 7]\n",
      "Second largest element in the list is:  5\n"
     ]
    }
   ],
   "source": [
    "# Q5.Write a Python program to find second largest number in a list?\n",
    "\n",
    "n=int(input(\"Enter the number of elements: \"))\n",
    "l=[]\n",
    "for i in range(n):\n",
    "    b=int(input(\"Enter the element: \"))\n",
    "    l.append(b)\n",
    "print(l)\n",
    "a=sorted(l)\n",
    "print(\"Second largest element in the list is: \",a[-2])"
   ]
  },
  {
   "cell_type": "code",
   "execution_count": 14,
   "id": "d266ca9c",
   "metadata": {},
   "outputs": [
    {
     "name": "stdout",
     "output_type": "stream",
     "text": [
      "Enter the number of elements: 5\n",
      "Enter the element: 5\n",
      "Enter the element: 1\n",
      "Enter the element: 3\n",
      "Enter the element: 9\n",
      "Enter the element: 6\n",
      "[5, 1, 3, 9, 6]\n",
      "Enter the value of N: 3\n",
      "N largest elements from a list is:  [5, 6, 9]\n"
     ]
    }
   ],
   "source": [
    "# Q6.Write a Python program to find N largest elements from a list?\n",
    "\n",
    "a=int(input(\"Enter the number of elements: \"))\n",
    "l=[]\n",
    "for i in range(a):\n",
    "    b=int(input(\"Enter the element: \"))\n",
    "    l.append(b)\n",
    "print(l)\n",
    "c=sorted(l)\n",
    "n=int(input(\"Enter the value of N: \"))\n",
    "print(\"N largest elements from a list is: \",c[-n:])\n",
    "\n"
   ]
  },
  {
   "cell_type": "code",
   "execution_count": 19,
   "id": "19fc0fda",
   "metadata": {},
   "outputs": [
    {
     "name": "stdout",
     "output_type": "stream",
     "text": [
      "Enter the number of elements: 6\n",
      "Enter the element: 8\n",
      "Enter the element: 5\n",
      "Enter the element: 9\n",
      "Enter the element: 2\n",
      "Enter the element: 14\n",
      "Enter the element: 34\n",
      "[8, 5, 9, 2, 14, 34]\n",
      "Even numbers in a list is:  [8, 2, 14, 34]\n"
     ]
    }
   ],
   "source": [
    "# Q7. Write a Python program to print even numbers in a list?\n",
    "a=int(input(\"Enter the number of elements: \"))\n",
    "l=[]\n",
    "for i in range(a):\n",
    "    b=int(input(\"Enter the element: \"))\n",
    "    l.append(b)\n",
    "print(l)\n",
    "c=[]\n",
    "for i in l:\n",
    "    if i%2==0:\n",
    "        c.append(i)\n",
    "print(\"Even numbers in a list is: \",c)"
   ]
  },
  {
   "cell_type": "code",
   "execution_count": 20,
   "id": "ddc99828",
   "metadata": {},
   "outputs": [
    {
     "name": "stdout",
     "output_type": "stream",
     "text": [
      "Enter the number of elements: 6\n",
      "Enter the element: 8\n",
      "Enter the element: 5\n",
      "Enter the element: 9\n",
      "Enter the element: 2\n",
      "Enter the element: 14\n",
      "Enter the element: 35\n",
      "[8, 5, 9, 2, 14, 35]\n",
      "Odd numbers in a list is:  [5, 9, 35]\n"
     ]
    }
   ],
   "source": [
    "# Q8. Write a Python program to print odd numbers in a List?\n",
    "\n",
    "a=int(input(\"Enter the number of elements: \"))\n",
    "l=[]\n",
    "for i in range(a):\n",
    "    b=int(input(\"Enter the element: \"))\n",
    "    l.append(b)\n",
    "print(l)\n",
    "c=[]\n",
    "for i in l:\n",
    "    if i%2!=0:\n",
    "        c.append(i)\n",
    "print(\"Odd numbers in a list is: \",c)"
   ]
  },
  {
   "cell_type": "code",
   "execution_count": 27,
   "id": "c81d6c31",
   "metadata": {},
   "outputs": [
    {
     "name": "stdout",
     "output_type": "stream",
     "text": [
      "List after the removal of empty lists:  [3, 4, 5, 8.8, 'Harish', 42]\n"
     ]
    }
   ],
   "source": [
    "# Q9. Write a Python program to Remove empty List from List?\n",
    "\n",
    "l=[3,4,5,[],8.8,[],\"Harish\",42,[]]\n",
    "\n",
    "for i in l:\n",
    "    if i==[]:\n",
    "        l.remove(i)\n",
    "print(\"List after the removal of empty lists: \",l)"
   ]
  },
  {
   "cell_type": "code",
   "execution_count": 24,
   "id": "d7d27aa8",
   "metadata": {},
   "outputs": [
    {
     "name": "stdout",
     "output_type": "stream",
     "text": [
      "Enter the number of elements: 4\n",
      "Enter the element: 5\n",
      "Enter the element: 1\n",
      "Enter the element: 3\n",
      "Enter the element: 7\n",
      "The given list l = [5, 1, 3, 7]\n",
      "The cloned list a = [5, 1, 3, 7]\n"
     ]
    }
   ],
   "source": [
    "# Q10. Write a Python program to Cloning or Copying a list?\n",
    "a=int(input(\"Enter the number of elements: \"))\n",
    "l=[]\n",
    "for i in range(a):\n",
    "    b=int(input(\"Enter the element: \"))\n",
    "    l.append(b)\n",
    "print(\"The given list l =\",l)\n",
    "a=l.copy()\n",
    "print(\"The cloned list a =\",a)"
   ]
  },
  {
   "cell_type": "code",
   "execution_count": 21,
   "id": "a1f108e6",
   "metadata": {},
   "outputs": [
    {
     "name": "stdout",
     "output_type": "stream",
     "text": [
      "Enter the number of elements: 6\n",
      "Enter the element: 2\n",
      "Enter the element: 4\n",
      "Enter the element: 9\n",
      "Enter the element: 2\n",
      "Enter the element: 3\n",
      "Enter the element: 2\n",
      "[2, 4, 9, 2, 3, 2]\n",
      "Enter the element of which occurences to be known:  2\n",
      "The number of times  2  occured in the list is  3  times.\n"
     ]
    }
   ],
   "source": [
    "# Q11.Write a Python program to Count occurrences of an element in a list?\n",
    "\n",
    "a=int(input(\"Enter the number of elements: \"))\n",
    "l=[]\n",
    "for i in range(a):\n",
    "    b=int(input(\"Enter the element: \"))\n",
    "    l.append(b)\n",
    "print(l)\n",
    "cnt=0\n",
    "c=int(input(\"Enter the element of which occurences to be known:  \"))\n",
    "for i in l:\n",
    "    if i==c:\n",
    "        cnt+=1\n",
    "print(\"The number of times \",c,\" occured in the list is \",cnt,\" times.\")"
   ]
  },
  {
   "cell_type": "code",
   "execution_count": null,
   "id": "35d9b7c9",
   "metadata": {},
   "outputs": [],
   "source": []
  }
 ],
 "metadata": {
  "kernelspec": {
   "display_name": "Python 3 (ipykernel)",
   "language": "python",
   "name": "python3"
  },
  "language_info": {
   "codemirror_mode": {
    "name": "ipython",
    "version": 3
   },
   "file_extension": ".py",
   "mimetype": "text/x-python",
   "name": "python",
   "nbconvert_exporter": "python",
   "pygments_lexer": "ipython3",
   "version": "3.9.7"
  }
 },
 "nbformat": 4,
 "nbformat_minor": 5
}
