{
 "cells": [
  {
   "cell_type": "markdown",
   "id": "48b460b5",
   "metadata": {},
   "source": [
    "1.What are the two values of the Boolean data type? How do you write them?"
   ]
  },
  {
   "cell_type": "code",
   "execution_count": null,
   "id": "98812199",
   "metadata": {},
   "outputs": [],
   "source": [
    "True - 1\n",
    "False - 0"
   ]
  },
  {
   "cell_type": "markdown",
   "id": "39870062",
   "metadata": {},
   "source": [
    "2. What are the three different types of Boolean operators?"
   ]
  },
  {
   "cell_type": "code",
   "execution_count": null,
   "id": "7a1ff19a",
   "metadata": {},
   "outputs": [],
   "source": [
    "and\n",
    "or\n",
    "not"
   ]
  },
  {
   "cell_type": "markdown",
   "id": "e3b6cf8f",
   "metadata": {},
   "source": [
    "3. Make a list of each Boolean operator's truth tables (i.e. every possible combination of Boolean values for the operator and what it evaluate )."
   ]
  },
  {
   "cell_type": "code",
   "execution_count": null,
   "id": "f8c1af0a",
   "metadata": {},
   "outputs": [],
   "source": [
    "p  q   p and q      \n",
    "0  0     0        \n",
    "0  1     0       \n",
    "1  0     0       \n",
    "1  1     1\n",
    "\n",
    "----------------\n",
    "p  q   p or q      \n",
    "0  0     0        \n",
    "0  1     1      \n",
    "1  0     1       \n",
    "1  1     1       \n",
    "\n",
    "-----------------\n",
    "\n",
    "p   not p\n",
    "0     1\n",
    "1     0"
   ]
  },
  {
   "cell_type": "markdown",
   "id": "b09062e2",
   "metadata": {},
   "source": [
    "4. What are the values of the following expressions?"
   ]
  },
  {
   "cell_type": "code",
   "execution_count": 4,
   "id": "96ec6547",
   "metadata": {},
   "outputs": [],
   "source": [
    "\n",
    "(5 > 4) and (3 == 5)                      ------------> False\n",
    "not (5 > 4)                               ------------> False\n",
    "(5 > 4) or (3 == 5)                       ------------> True\n",
    "not ((5 > 4) or (3 == 5))                 ------------> False\n",
    "(True and True) and (True == False)       ------------> False\n",
    "(not False) or (not True)                 ------------> True\n"
   ]
  },
  {
   "cell_type": "markdown",
   "id": "61673622",
   "metadata": {},
   "source": [
    "5.` What are the six comparison operators?"
   ]
  },
  {
   "cell_type": "code",
   "execution_count": null,
   "id": "416f1bfe",
   "metadata": {},
   "outputs": [],
   "source": [
    "Less than ( < )\n",
    "Less than or equal to (<=)\n",
    "Greater than (>)\n",
    "Greater than or equal to (>=)\n",
    "Equal to ( == )\n",
    "Not equal to ( != )"
   ]
  },
  {
   "cell_type": "markdown",
   "id": "fdf1a245",
   "metadata": {},
   "source": [
    "6. How do you tell the difference between the equal to and assignment operators?Describe a condition and when you would use one."
   ]
  },
  {
   "cell_type": "code",
   "execution_count": null,
   "id": "1f63ab12",
   "metadata": {},
   "outputs": [],
   "source": [
    "'=' sign is used to assign a specific value to a variable.\n",
    "eg:\n",
    "    a = 10\n",
    "\n",
    "\"==\" sign is used to compare two values and it checks whether it's true or false.\n",
    "\n",
    "eg:\n",
    "    if a==2:\n",
    "        print(\"Equal\")\n",
    "        "
   ]
  },
  {
   "cell_type": "markdown",
   "id": "e6bbf6f7",
   "metadata": {},
   "source": [
    "7. Identify the three blocks in this code:\n",
    "spam = 0\n",
    "if spam == 10:\n",
    "print('eggs')\n",
    "if spam > 5:\n",
    "print('bacon')\n",
    "else:\n",
    "print('ham')\n",
    "print('spam')\n",
    "print('spam')\n"
   ]
  },
  {
   "cell_type": "code",
   "execution_count": null,
   "id": "5cdd7933",
   "metadata": {},
   "outputs": [],
   "source": [
    "spam = 0\n",
    "if spam == 10:              # BLOCK 1\n",
    "     print('eggs')          \n",
    "if spam > 5:                # BLOCK 2\n",
    "    print('bacon')\n",
    "else:                       # BLOCK 3\n",
    "    print('ham')\n",
    "    print('spam')\n",
    "    print('spam')\n",
    "    "
   ]
  },
  {
   "cell_type": "markdown",
   "id": "9255a046",
   "metadata": {},
   "source": [
    "8. Write code that prints Hello if 1 is stored in spam, prints Howdy if 2 is stored in spam, and prints Greetings! if anything else is stored in spam."
   ]
  },
  {
   "cell_type": "code",
   "execution_count": 20,
   "id": "affb338d",
   "metadata": {},
   "outputs": [
    {
     "name": "stdout",
     "output_type": "stream",
     "text": [
      "Enter a number: 1\n",
      "Hello\n",
      "Enter a number: 2\n",
      "Howdy\n",
      "Enter a number: 3\n",
      "Greetings!\n",
      "Enter a number: 4\n",
      "Greetings!\n"
     ]
    }
   ],
   "source": [
    "for i in range(0,4):\n",
    "    spam=int(input(\"Enter a number: \"))\n",
    "    if spam==1:\n",
    "        print(\"Hello\")\n",
    "    elif spam==2:\n",
    "        print(\"Howdy\")\n",
    "    else:\n",
    "        print(\"Greetings!\")"
   ]
  },
  {
   "cell_type": "markdown",
   "id": "b85edbe9",
   "metadata": {},
   "source": [
    "9.If your programme is stuck in an endless loop, what keys you’ll press?"
   ]
  },
  {
   "cell_type": "code",
   "execution_count": null,
   "id": "d373ca22",
   "metadata": {},
   "outputs": [],
   "source": [
    "Ctrl + C "
   ]
  },
  {
   "cell_type": "markdown",
   "id": "d3acf833",
   "metadata": {},
   "source": [
    "10. How can you tell the difference between break and continue?"
   ]
  },
  {
   "cell_type": "code",
   "execution_count": null,
   "id": "d509833b",
   "metadata": {},
   "outputs": [],
   "source": [
    "break statement terminates the smallest enclosing loop\n",
    "\n",
    "continue statement skips the rest of the loop statement and starts the next iteration of the loop to take place."
   ]
  },
  {
   "cell_type": "markdown",
   "id": "f8774899",
   "metadata": {},
   "source": [
    "11. In a for loop, what is the difference between range(10), range(0, 10), and range(0, 10, 1)?"
   ]
  },
  {
   "cell_type": "code",
   "execution_count": null,
   "id": "86c8f5e2",
   "metadata": {},
   "outputs": [],
   "source": [
    "range(10) , range(0, 10), and range(0, 10, 1) ----> All prints the same ie) from 0 to 9 .\n",
    "\n",
    "We know the syntax of range : range(start,stop,step)\n",
    "    \n",
    "    in range(10)       -----> only stop is mentioned.\n",
    "    in range(0,10)     -----> Both start and stop are mentioned.\n",
    "    in range(0,10,1)   -----> All the three start , stop and step are mentioned."
   ]
  },
  {
   "cell_type": "markdown",
   "id": "38414c08",
   "metadata": {},
   "source": [
    "12. Write a short program that prints the numbers 1 to 10 using a for loop. Then write an equivalent program that prints the numbers 1 to 10 using a while loop."
   ]
  },
  {
   "cell_type": "code",
   "execution_count": 21,
   "id": "704f7934",
   "metadata": {},
   "outputs": [
    {
     "name": "stdout",
     "output_type": "stream",
     "text": [
      "1\n",
      "2\n",
      "3\n",
      "4\n",
      "5\n",
      "6\n",
      "7\n",
      "8\n",
      "9\n",
      "10\n"
     ]
    }
   ],
   "source": [
    "# Using for loop\n",
    "\n",
    "for i in range(1,11):\n",
    "    print(i)"
   ]
  },
  {
   "cell_type": "code",
   "execution_count": 23,
   "id": "b13808ef",
   "metadata": {},
   "outputs": [
    {
     "name": "stdout",
     "output_type": "stream",
     "text": [
      "1\n",
      "2\n",
      "3\n",
      "4\n",
      "5\n",
      "6\n",
      "7\n",
      "8\n",
      "9\n",
      "10\n"
     ]
    }
   ],
   "source": [
    "# Using while loop\n",
    "n=1\n",
    "while(n<11):\n",
    "    print(n)\n",
    "    n+=1"
   ]
  },
  {
   "cell_type": "markdown",
   "id": "16b5af98",
   "metadata": {},
   "source": [
    "13. If you had a function named bacon() inside a module named spam, how would you call it after importing spam?"
   ]
  },
  {
   "cell_type": "code",
   "execution_count": null,
   "id": "b6cbf601",
   "metadata": {},
   "outputs": [],
   "source": [
    "import spam     # Importing the module\n",
    "\n",
    "spam.bacon()    # Calling the bacon() function of the spam module"
   ]
  }
 ],
 "metadata": {
  "kernelspec": {
   "display_name": "Python 3 (ipykernel)",
   "language": "python",
   "name": "python3"
  },
  "language_info": {
   "codemirror_mode": {
    "name": "ipython",
    "version": 3
   },
   "file_extension": ".py",
   "mimetype": "text/x-python",
   "name": "python",
   "nbconvert_exporter": "python",
   "pygments_lexer": "ipython3",
   "version": "3.9.7"
  }
 },
 "nbformat": 4,
 "nbformat_minor": 5
}
