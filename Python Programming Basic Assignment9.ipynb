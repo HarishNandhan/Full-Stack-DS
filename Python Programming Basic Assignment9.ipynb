{
 "cells": [
  {
   "cell_type": "markdown",
   "id": "5f4de920",
   "metadata": {},
   "source": [
    "1)Write a Python program to check if the given number is a Disarium Number?"
   ]
  },
  {
   "cell_type": "code",
   "execution_count": 14,
   "id": "3e14d49c",
   "metadata": {},
   "outputs": [
    {
     "name": "stdout",
     "output_type": "stream",
     "text": [
      "Enter the value of m:175\n",
      "It is a Desarium Number\n"
     ]
    }
   ],
   "source": [
    "def disarium(n):\n",
    "    r=0\n",
    "    sum=0\n",
    "    a=str(n)\n",
    "    b=len(a)\n",
    "    temp=n\n",
    "    while(temp>0 and b>0):\n",
    "        r=temp%10;\n",
    "        sum=sum+r**b\n",
    "        temp=temp//10\n",
    "        b=b-1\n",
    "    return sum\n",
    "m=int(input(\"Enter the value of m:\"))\n",
    "d=disarium(m)\n",
    "if d==m:\n",
    "    print(\"It is a Desarium Number\")\n",
    "else:\n",
    "    print(\"It is not a Desarium Number\")\n",
    "\n",
    "\n"
   ]
  },
  {
   "cell_type": "markdown",
   "id": "7a895f94",
   "metadata": {},
   "source": [
    "2)Write a Python program to print all disarium numbers between 1 to 100?"
   ]
  },
  {
   "cell_type": "code",
   "execution_count": 3,
   "id": "d808134e",
   "metadata": {},
   "outputs": [
    {
     "name": "stdout",
     "output_type": "stream",
     "text": [
      "Disarium numbers between 1 to 100 are: \n",
      "1\n",
      "2\n",
      "3\n",
      "4\n",
      "5\n",
      "6\n",
      "7\n",
      "8\n",
      "9\n",
      "89\n"
     ]
    }
   ],
   "source": [
    "\n",
    "def disarium(n):\n",
    "    r=0\n",
    "    sum=0\n",
    "    a=str(n)\n",
    "    b=len(a)\n",
    "    temp=n\n",
    "    while(temp>0 and b>0):\n",
    "        r=temp%10;\n",
    "        sum=sum+r**b\n",
    "        temp=temp//10\n",
    "        b=b-1\n",
    "    return sum\n",
    "print(\"Disarium numbers between 1 to 100 are: \")\n",
    "for i in range(1,100):\n",
    "    n=i\n",
    "    a=disarium(n)\n",
    "    if n==a:\n",
    "        print(a)\n"
   ]
  },
  {
   "cell_type": "markdown",
   "id": "5fc9bc5d",
   "metadata": {},
   "source": [
    "3)Write a Python program to check if the given number is Happy Number?"
   ]
  },
  {
   "cell_type": "code",
   "execution_count": 12,
   "id": "31aba1ea",
   "metadata": {},
   "outputs": [
    {
     "name": "stdout",
     "output_type": "stream",
     "text": [
      "Enter a number: 37\n",
      "37 is not a Happy number\n"
     ]
    }
   ],
   "source": [
    "def happyno(n):\n",
    "    r=0\n",
    "    sum=0\n",
    "    while(n>0):\n",
    "        r=n%10\n",
    "        sum=sum+(r**2)\n",
    "        n=n//10\n",
    "    return sum\n",
    "\n",
    "n=int(input(\"Enter a number: \"))\n",
    "temp=n\n",
    "\n",
    "while(temp!=1 and temp!=4):\n",
    "    temp=happyno(temp)\n",
    "    \n",
    "if(temp==1):\n",
    "    print(f\"{n} is a Happy number\")\n",
    "if(temp==4):\n",
    "    print(f\"{n} is not a Happy number\")\n",
    "\n"
   ]
  },
  {
   "cell_type": "markdown",
   "id": "4cfdeba4",
   "metadata": {},
   "source": [
    "4)Write a Python program to print all happy numbers between 1 and 100?"
   ]
  },
  {
   "cell_type": "code",
   "execution_count": 13,
   "id": "acaeca3c",
   "metadata": {},
   "outputs": [
    {
     "name": "stdout",
     "output_type": "stream",
     "text": [
      "The happy numbers between 1 to 100 are: \n",
      "1\n",
      "7\n",
      "10\n",
      "13\n",
      "19\n",
      "23\n",
      "28\n",
      "31\n",
      "32\n",
      "44\n",
      "49\n",
      "68\n",
      "70\n",
      "79\n",
      "82\n",
      "86\n",
      "91\n",
      "94\n",
      "97\n"
     ]
    }
   ],
   "source": [
    "def happyno(n):\n",
    "    r=0\n",
    "    sum=0\n",
    "    while(n>0):\n",
    "        r=n%10\n",
    "        sum=sum+(r**2)\n",
    "        n=n//10\n",
    "    return sum\n",
    "print(\"The happy numbers between 1 to 100 are: \")\n",
    "for i in range(1,100):\n",
    "\n",
    "    temp=i\n",
    "\n",
    "    while(temp!=1 and temp!=4):\n",
    "        temp=happyno(temp)\n",
    "    \n",
    "    if(temp==1):\n",
    "        print(i)\n",
    "    "
   ]
  },
  {
   "cell_type": "markdown",
   "id": "a66a6ec4",
   "metadata": {},
   "source": [
    "5.Write a Python program to determine whether the given number is a Harshad Number?"
   ]
  },
  {
   "cell_type": "code",
   "execution_count": 7,
   "id": "08b8d791",
   "metadata": {},
   "outputs": [
    {
     "name": "stdout",
     "output_type": "stream",
     "text": [
      "Enter the value of m:156\n",
      "It is a Harshad Number\n"
     ]
    }
   ],
   "source": [
    "def harshad(n):\n",
    "    r=0\n",
    "    sum=0\n",
    "    temp=n\n",
    "    while(temp>0):\n",
    "        r=temp%10;\n",
    "        sum=sum+r\n",
    "        temp=temp//10\n",
    "    return sum\n",
    "m=int(input(\"Enter the value of m:\"))\n",
    "d=harshad(m)\n",
    "if m%d==0:\n",
    "    print(\"It is a Harshad Number\")\n",
    "else:\n",
    "    print(\"It is not a Harshad Number\")\n"
   ]
  },
  {
   "cell_type": "markdown",
   "id": "80b27e73",
   "metadata": {},
   "source": [
    "6.Write a Python program to print all pronic numbers between 1 and 100?"
   ]
  },
  {
   "cell_type": "code",
   "execution_count": 10,
   "id": "74be2007",
   "metadata": {},
   "outputs": [
    {
     "name": "stdout",
     "output_type": "stream",
     "text": [
      "The pronic numbers between 1 to 100 are: \n",
      "2\n",
      "6\n",
      "12\n",
      "20\n",
      "30\n",
      "42\n",
      "56\n",
      "72\n",
      "90\n"
     ]
    }
   ],
   "source": [
    "print(\"The pronic numbers between 1 to 100 are: \")\n",
    "for i in range(1,100):\n",
    "    c=i*(i+1)\n",
    "    if c<100:\n",
    "        print(c)"
   ]
  },
  {
   "cell_type": "code",
   "execution_count": null,
   "id": "4eac4090",
   "metadata": {},
   "outputs": [],
   "source": []
  }
 ],
 "metadata": {
  "kernelspec": {
   "display_name": "Python 3 (ipykernel)",
   "language": "python",
   "name": "python3"
  },
  "language_info": {
   "codemirror_mode": {
    "name": "ipython",
    "version": 3
   },
   "file_extension": ".py",
   "mimetype": "text/x-python",
   "name": "python",
   "nbconvert_exporter": "python",
   "pygments_lexer": "ipython3",
   "version": "3.9.7"
  }
 },
 "nbformat": 4,
 "nbformat_minor": 5
}
